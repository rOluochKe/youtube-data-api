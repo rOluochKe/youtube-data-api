{
 "cells": [
  {
   "cell_type": "code",
   "execution_count": 1,
   "metadata": {},
   "outputs": [
    {
     "name": "stdout",
     "output_type": "stream",
     "text": [
      "UC1emV4A8liRs9p80CY8ElUQ\n"
     ]
    }
   ],
   "source": [
    "import json\n",
    "import pandas as pd\n",
    "\n",
    "file = 'freecodecamp_español.json'\n",
    "data = None\n",
    "with open(file, 'r') as f:\n",
    "    data = json.load(f)\n",
    "\n",
    "channel_id, stats = data.popitem()\n",
    "print(channel_id)\n",
    "\n",
    "channel_stats = stats['channel_statistics']\n",
    "video_stats = stats['video_data']"
   ]
  },
  {
   "cell_type": "code",
   "execution_count": 2,
   "metadata": {},
   "outputs": [
    {
     "name": "stdout",
     "output_type": "stream",
     "text": [
      "views 5904423\n",
      "subscriber 195000\n",
      "videos 74\n"
     ]
    }
   ],
   "source": [
    "# channel statistics\n",
    "print('views', channel_stats['viewCount'])\n",
    "print('subscriber', channel_stats['subscriberCount'])\n",
    "print('videos', channel_stats['videoCount'])"
   ]
  },
  {
   "cell_type": "code",
   "execution_count": 3,
   "metadata": {},
   "outputs": [],
   "source": [
    "# video statistics\n",
    "sorted_vids = sorted(video_stats.items(), key=lambda item: int(item[1]['viewCount']), reverse=True)\n",
    "stats = []\n",
    "for vid in sorted_vids:\n",
    "    video_id = vid[0]\n",
    "    title = vid[1]['title']\n",
    "    views = int(vid[1]['viewCount'])\n",
    "    likes = int(vid[1]['likeCount'])\n",
    "    # dislikes = int(vid[1]['dislikeCount'])\n",
    "    comments = int(vid[1]['commentCount'])\n",
    "    stats.append([title, views, likes, comments])"
   ]
  },
  {
   "cell_type": "code",
   "execution_count": 4,
   "metadata": {},
   "outputs": [
    {
     "data": {
      "text/html": [
       "<div>\n",
       "<style scoped>\n",
       "    .dataframe tbody tr th:only-of-type {\n",
       "        vertical-align: middle;\n",
       "    }\n",
       "\n",
       "    .dataframe tbody tr th {\n",
       "        vertical-align: top;\n",
       "    }\n",
       "\n",
       "    .dataframe thead th {\n",
       "        text-align: right;\n",
       "    }\n",
       "</style>\n",
       "<table border=\"1\" class=\"dataframe\">\n",
       "  <thead>\n",
       "    <tr style=\"text-align: right;\">\n",
       "      <th></th>\n",
       "      <th>title</th>\n",
       "      <th>views</th>\n",
       "      <th>likes</th>\n",
       "      <th>comments</th>\n",
       "    </tr>\n",
       "  </thead>\n",
       "  <tbody>\n",
       "    <tr>\n",
       "      <th>0</th>\n",
       "      <td>Aprende JavaScript - Curso Completo desde Cero</td>\n",
       "      <td>1275180</td>\n",
       "      <td>47725</td>\n",
       "      <td>1532</td>\n",
       "    </tr>\n",
       "    <tr>\n",
       "      <th>1</th>\n",
       "      <td>Aprende HTML y CSS - Curso Desde Cero</td>\n",
       "      <td>1119982</td>\n",
       "      <td>38201</td>\n",
       "      <td>1509</td>\n",
       "    </tr>\n",
       "    <tr>\n",
       "      <th>2</th>\n",
       "      <td>Aprende React Desde Cero - Curso de React Con ...</td>\n",
       "      <td>693152</td>\n",
       "      <td>21523</td>\n",
       "      <td>1070</td>\n",
       "    </tr>\n",
       "    <tr>\n",
       "      <th>3</th>\n",
       "      <td>6 Proyectos de Python Básicos - Curso Completo...</td>\n",
       "      <td>355369</td>\n",
       "      <td>13415</td>\n",
       "      <td>310</td>\n",
       "    </tr>\n",
       "    <tr>\n",
       "      <th>4</th>\n",
       "      <td>Aprende Node.js y Express - Curso desde Cero</td>\n",
       "      <td>270275</td>\n",
       "      <td>10630</td>\n",
       "      <td>496</td>\n",
       "    </tr>\n",
       "    <tr>\n",
       "      <th>5</th>\n",
       "      <td>Aprende Bootstrap 5 - Curso de Bootstrap desde...</td>\n",
       "      <td>139858</td>\n",
       "      <td>5480</td>\n",
       "      <td>344</td>\n",
       "    </tr>\n",
       "    <tr>\n",
       "      <th>6</th>\n",
       "      <td>Aprende Git y GitHub - Curso desde Cero</td>\n",
       "      <td>102817</td>\n",
       "      <td>5125</td>\n",
       "      <td>338</td>\n",
       "    </tr>\n",
       "    <tr>\n",
       "      <th>7</th>\n",
       "      <td>💻 Cómo Ejecutar JavaScript en Visual Studio Co...</td>\n",
       "      <td>86883</td>\n",
       "      <td>4862</td>\n",
       "      <td>69</td>\n",
       "    </tr>\n",
       "    <tr>\n",
       "      <th>8</th>\n",
       "      <td>💻 Cómo Validar Formularios con HTML y CSS en 6...</td>\n",
       "      <td>55575</td>\n",
       "      <td>6750</td>\n",
       "      <td>35</td>\n",
       "    </tr>\n",
       "    <tr>\n",
       "      <th>9</th>\n",
       "      <td>💻 Entidades de Caracteres en HTML - Cómo Agreg...</td>\n",
       "      <td>29303</td>\n",
       "      <td>3684</td>\n",
       "      <td>16</td>\n",
       "    </tr>\n",
       "  </tbody>\n",
       "</table>\n",
       "</div>"
      ],
      "text/plain": [
       "                                               title    views  likes  comments\n",
       "0     Aprende JavaScript - Curso Completo desde Cero  1275180  47725      1532\n",
       "1              Aprende HTML y CSS - Curso Desde Cero  1119982  38201      1509\n",
       "2  Aprende React Desde Cero - Curso de React Con ...   693152  21523      1070\n",
       "3  6 Proyectos de Python Básicos - Curso Completo...   355369  13415       310\n",
       "4       Aprende Node.js y Express - Curso desde Cero   270275  10630       496\n",
       "5  Aprende Bootstrap 5 - Curso de Bootstrap desde...   139858   5480       344\n",
       "6            Aprende Git y GitHub - Curso desde Cero   102817   5125       338\n",
       "7  💻 Cómo Ejecutar JavaScript en Visual Studio Co...    86883   4862        69\n",
       "8  💻 Cómo Validar Formularios con HTML y CSS en 6...    55575   6750        35\n",
       "9  💻 Entidades de Caracteres en HTML - Cómo Agreg...    29303   3684        16"
      ]
     },
     "execution_count": 4,
     "metadata": {},
     "output_type": "execute_result"
    }
   ],
   "source": [
    "df = pd.DataFrame(stats, columns=['title', 'views', 'likes', 'comments'])\n",
    "df.head(10)"
   ]
  },
  {
   "cell_type": "code",
   "execution_count": 5,
   "metadata": {},
   "outputs": [],
   "source": [
    "top10 = df.head(10)\n",
    "# ax = top10.plot.bar(x='title', y='views', figsize=(12, 8), fontsize=14)"
   ]
  },
  {
   "cell_type": "code",
   "execution_count": 6,
   "metadata": {},
   "outputs": [],
   "source": [
    "bottom10 = df.tail(10)\n",
    "# ax = bottom10.plot.bar(x='title', y='views', figsize=(12, 8), fontsize=14)"
   ]
  },
  {
   "cell_type": "code",
   "execution_count": 7,
   "metadata": {},
   "outputs": [
    {
     "name": "stdout",
     "output_type": "stream",
     "text": [
      "Top 10\n",
      "Average likes 15739.5\n",
      "Average comments 571.9\n"
     ]
    }
   ],
   "source": [
    "# likes / coments\n",
    "likes_avg = top10['likes'].mean()\n",
    "comments_avg = top10['comments'].mean()\n",
    "\n",
    "print('Top 10')\n",
    "print('Average likes', likes_avg)\n",
    "print('Average comments', comments_avg)"
   ]
  },
  {
   "cell_type": "code",
   "execution_count": 8,
   "metadata": {},
   "outputs": [
    {
     "name": "stdout",
     "output_type": "stream",
     "text": [
      "Bottom 10\n",
      "Average likes 173.2\n",
      "Average comments 4.2\n"
     ]
    }
   ],
   "source": [
    "b_likes_avg = bottom10['likes'].mean()\n",
    "b_comments_avg = bottom10['comments'].mean()\n",
    "\n",
    "print('Bottom 10')\n",
    "print('Average likes', b_likes_avg)\n",
    "print('Average comments', b_comments_avg)"
   ]
  }
 ],
 "metadata": {
  "kernelspec": {
   "display_name": "Python 3",
   "language": "python",
   "name": "python3"
  },
  "language_info": {
   "codemirror_mode": {
    "name": "ipython",
    "version": 3
   },
   "file_extension": ".py",
   "mimetype": "text/x-python",
   "name": "python",
   "nbconvert_exporter": "python",
   "pygments_lexer": "ipython3",
   "version": "3.10.10"
  },
  "orig_nbformat": 4
 },
 "nbformat": 4,
 "nbformat_minor": 2
}
